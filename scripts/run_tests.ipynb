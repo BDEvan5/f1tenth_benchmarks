{
 "cells": [
  {
   "cell_type": "code",
   "execution_count": 6,
   "metadata": {},
   "outputs": [
    {
     "name": "stdout",
     "output_type": "stream",
     "text": [
      "/Users/benjamin/Documents/GitHub/f1tenth_sim\n"
     ]
    }
   ],
   "source": [
    "from f1tenth_sim.classic_racing.GlobalPurePursuit import GlobalPurePursuit\n",
    "from f1tenth_sim.classic_racing.GlobalMPCC import GlobalMPCC\n",
    "from f1tenth_sim.classic_racing.GlobalMPCC3 import GlobalMPCC3\n",
    "from f1tenth_sim.data_tools.specific_plotting.plot_pf_errors import plot_pf_errors\n",
    "from f1tenth_sim.run_scripts.run_functions import *\n",
    "from matplotlib import pyplot as plt\n",
    "plt.ioff()\n",
    "\n",
    "import os\n",
    "if os.getcwd().split(\"/\")[-1] == \"scripts\":\n",
    "    os.chdir(\"../\")\n",
    "print(os.getcwd())\n"
   ]
  },
  {
   "cell_type": "code",
   "execution_count": 5,
   "metadata": {},
   "outputs": [
    {
     "name": "stdout",
     "output_type": "stream",
     "text": [
      "Testing on mco...\n",
      "0 :: 807 LAP COMPLETE: Time: 32.28, Progress: 99.6\n",
      "Vehicle name: FullStackPP\n",
      "Planner name: FullStackPP\n",
      "Analysing log: SimLog_mco_1.npy \n",
      "Analysing log: SimLog_mco_0.npy \n",
      "Analysing log: SimLog_mco_2.npy \n",
      "Analysing log: SimLog_mco_3.npy \n",
      "Analysing log: SimLog_mco_4.npy \n",
      "Vehicle name: FullStackPP\n"
     ]
    }
   ],
   "source": [
    "\n",
    "\n",
    "test_id = \"mu60\"\n",
    "map_name = \"mco\"\n",
    "planner = GlobalPurePursuit(test_id, False, planner_name=\"FullStackPP\")\n",
    "# test_full_stack_all_maps(planner, test_id)\n",
    "test_full_stack_single_map(planner, map_name, test_id)\n",
    "\n",
    "plot_trajectory_analysis(planner.name, test_id)\n",
    "plot_raceline_tracking(planner.name, test_id)\n",
    "\n",
    "\n",
    "\n"
   ]
  }
 ],
 "metadata": {
  "kernelspec": {
   "display_name": "venv",
   "language": "python",
   "name": "python3"
  },
  "language_info": {
   "codemirror_mode": {
    "name": "ipython",
    "version": 3
   },
   "file_extension": ".py",
   "mimetype": "text/x-python",
   "name": "python",
   "nbconvert_exporter": "python",
   "pygments_lexer": "ipython3",
   "version": "3.9.9"
  }
 },
 "nbformat": 4,
 "nbformat_minor": 2
}
